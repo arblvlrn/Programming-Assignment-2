{
 "cells": [
  {
   "cell_type": "markdown",
   "id": "875f597a-e95c-4387-9967-ca37dbc4381e",
   "metadata": {},
   "source": [
    "# EXPERIMENT 2: NUMERICAL PYTHON (NUMPY)"
   ]
  },
  {
   "cell_type": "markdown",
   "id": "f27e6e1b-ff81-4c60-b750-3fea80d1c869",
   "metadata": {},
   "source": [
    "#### Name: Arabelle Y. Villarin\n",
    "#### Section: 2ECE-D‎ ‎ ‎ ‎ ‎ ‎ ‎ ‎ ‎ ‎ ‎ ‎                            ‎ ‎ ‎ ‎ ‎ ‎ ‎ ‎‎ ‎ ‎ ‎ ‎ ‎ ‎ ‎  ‎ ‎ ‎ ‎ ‎‎ ‎  ‎ ‎ ‎ ‎ ‎ ‎ ‎ ‎ Date Submitted: September 3, 2024"
   ]
  },
  {
   "cell_type": "markdown",
   "id": "96e1529d-4a93-4952-b115-4d7ca5b1d1f1",
   "metadata": {},
   "source": [
    "   "
   ]
  },
  {
   "cell_type": "code",
   "execution_count": 138,
   "id": "41ae6ec8-55f7-4262-8159-de5b7181d94a",
   "metadata": {},
   "outputs": [],
   "source": [
    "import numpy as np"
   ]
  },
  {
   "cell_type": "markdown",
   "id": "7e91b476-9afb-4ca4-8dc1-2a9e1021aec8",
   "metadata": {},
   "source": [
    "no. 1: NORMALIZATION PROBLEM"
   ]
  },
  {
   "cell_type": "code",
   "execution_count": 141,
   "id": "691af88b-6425-4eaf-a1ea-d00cbdb97fd1",
   "metadata": {},
   "outputs": [
    {
     "name": "stdout",
     "output_type": "stream",
     "text": [
      "[[ 1.47784465 -1.13575625 -0.81228136  0.41262897  1.5597271 ]\n",
      " [-0.8570012  -0.7856373  -0.48101047 -1.1101737  -1.40551183]\n",
      " [-1.24076345  0.02774222 -1.18793838 -0.04947423 -0.82820953]\n",
      " [-0.28640261  1.4306911   1.16926018  0.28587308  0.46886684]\n",
      " [ 1.58672653 -0.22553179 -0.52578946  1.12499696  1.38712391]]\n"
     ]
    }
   ],
   "source": [
    "# Create an 5x5 array with random numbers from 0 to 1\n",
    "X = np.random.rand(5,5) \n",
    "\n",
    "mean = X.mean() # Stores the mean from the X variable\n",
    "std_dev = X.std() # Stores the standard deviation from the X variable\n",
    "\n",
    "X_normalized = (X - mean) / std_dev # Calculate for the normalized X\n",
    "\n",
    "print(X_normalized) # Print the normalized array of X\n",
    "\n",
    "np.save('X_normalized.npy', X_normalized) # Save the normalized array in a file"
   ]
  },
  {
   "cell_type": "markdown",
   "id": "09163f8a-a56c-431c-a2fd-432935fa4d5a",
   "metadata": {},
   "source": [
    "    "
   ]
  },
  {
   "cell_type": "markdown",
   "id": "af86772b-9b74-4a3f-9a28-ad7e74ca0378",
   "metadata": {},
   "source": [
    "no. 2: DIVISIBLE BY 3 PROBLEM"
   ]
  },
  {
   "cell_type": "code",
   "execution_count": 145,
   "id": "55db87df-e9c5-4f69-a80a-9e6a7ce05489",
   "metadata": {},
   "outputs": [
    {
     "name": "stdout",
     "output_type": "stream",
     "text": [
      "[   9   36   81  144  225  324  441  576  729  900 1089 1296 1521 1764\n",
      " 2025 2304 2601 2916 3249 3600 3969 4356 4761 5184 5625 6084 6561 7056\n",
      " 7569 8100 8649 9216 9801]\n"
     ]
    }
   ],
   "source": [
    "X = np.arange(1, 101) # Create an array from positive integer 1 to 100\n",
    "\n",
    "X_squared = X ** 2 # Square all the numbers\n",
    "\n",
    "X_reshape = X_squared.reshape(10, 10) # Make the array in a 10x10 form\n",
    "\n",
    "div_by_3 = X_reshape[X_reshape % 3 == 0] # Use modulo to determine the elements divisible by 3\n",
    "\n",
    "print(div_by_3) # Print all squared numbers from 1 to 100 that are divisible to 3\n",
    "\n",
    "np.save('div_by_3.npy', div_by_3) # Save the array in a file"
   ]
  }
 ],
 "metadata": {
  "kernelspec": {
   "display_name": "anaconda-2024.02-py310",
   "language": "python",
   "name": "conda-env-anaconda-2024.02-py310-py"
  },
  "language_info": {
   "codemirror_mode": {
    "name": "ipython",
    "version": 3
   },
   "file_extension": ".py",
   "mimetype": "text/x-python",
   "name": "python",
   "nbconvert_exporter": "python",
   "pygments_lexer": "ipython3",
   "version": "3.10.14"
  }
 },
 "nbformat": 4,
 "nbformat_minor": 5
}
